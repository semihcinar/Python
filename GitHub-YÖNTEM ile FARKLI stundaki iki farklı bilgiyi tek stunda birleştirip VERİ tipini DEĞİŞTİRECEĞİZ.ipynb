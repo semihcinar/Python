{
 "cells": [
  {
   "cell_type": "markdown",
   "id": "36d799df",
   "metadata": {},
   "source": [
    "###  Bir YÖNTEM ile FARKLI stundaki iki farklı bilgiyi tek stunda birleştirip VERİ tipini DEĞİŞTİRECEĞİZ"
   ]
  },
  {
   "cell_type": "code",
   "execution_count": 34,
   "id": "d2c4b904",
   "metadata": {},
   "outputs": [],
   "source": [
    "import pandas as pd\n",
    "import numpy as np"
   ]
  },
  {
   "cell_type": "code",
   "execution_count": 35,
   "id": "9662af0c",
   "metadata": {
    "scrolled": true
   },
   "outputs": [
    {
     "name": "stderr",
     "output_type": "stream",
     "text": [
      "C:\\Users\\sc977\\Anaconda3\\lib\\site-packages\\IPython\\core\\interactiveshell.py:3165: DtypeWarning: Columns (8) have mixed types.Specify dtype option on import or set low_memory=False.\n",
      "  has_raised = await self.run_ast_nodes(code_ast.body, cell_name,\n"
     ]
    }
   ],
   "source": [
    "df=pd.read_csv(\"RI_cleaned.csv\", nrows = 50000) # 50000 kayıt üzerinde çalışacağız, Data Frame oluşturuyoruz\n"
   ]
  },
  {
   "cell_type": "markdown",
   "id": "ebaad6b5",
   "metadata": {},
   "source": [
    " # stop_date ve stop_time isimli alanları stop_datetime alanında birleştireceğiz. combined değişkenine iki alanı atadık."
   ]
  },
  {
   "cell_type": "code",
   "execution_count": 45,
   "id": "c2053e0b",
   "metadata": {},
   "outputs": [],
   "source": [
    "combined=df.stop_date.str.cat(df.stop_time, sep= \" \")"
   ]
  },
  {
   "cell_type": "code",
   "execution_count": 41,
   "id": "85717a3c",
   "metadata": {
    "scrolled": true
   },
   "outputs": [
    {
     "data": {
      "text/plain": [
       "0        2005-01-02 01:55\n",
       "1        2005-01-02 20:30\n",
       "2        2005-01-04 11:30\n",
       "3        2005-01-04 12:55\n",
       "4        2005-01-06 01:30\n",
       "               ...       \n",
       "49995    2006-08-08 22:45\n",
       "49996    2006-08-08 22:45\n",
       "49997    2006-08-08 22:53\n",
       "49998    2006-08-08 23:00\n",
       "49999    2006-08-08 23:00\n",
       "Name: stop_date, Length: 50000, dtype: object"
      ]
     },
     "execution_count": 41,
     "metadata": {},
     "output_type": "execute_result"
    }
   ],
   "source": [
    "combined"
   ]
  },
  {
   "cell_type": "markdown",
   "id": "6aad4d43",
   "metadata": {},
   "source": [
    "#  Tabloda  stop_datetime isminde alanı oluşturuyoruz, eşitliğin sonrasında ise combined değişkenine atadığımız bilgiyi stop_datetime alanına yazdırıyoruz."
   ]
  },
  {
   "cell_type": "code",
   "execution_count": 46,
   "id": "1bc08f71",
   "metadata": {},
   "outputs": [],
   "source": [
    "df[\"stop_datetime\"] = pd.to_datetime(combined)"
   ]
  },
  {
   "cell_type": "code",
   "execution_count": null,
   "id": "4d21ad08",
   "metadata": {},
   "outputs": [],
   "source": [
    "# df.info() komutu ile stop_date_time alanının oluştuğunu ve veri tipinin DATETİME olduğunu görüyoruz."
   ]
  },
  {
   "cell_type": "code",
   "execution_count": 49,
   "id": "000ddc4d",
   "metadata": {},
   "outputs": [
    {
     "name": "stdout",
     "output_type": "stream",
     "text": [
      "<class 'pandas.core.frame.DataFrame'>\n",
      "RangeIndex: 50000 entries, 0 to 49999\n",
      "Data columns (total 27 columns):\n",
      " #   Column                 Non-Null Count  Dtype         \n",
      "---  ------                 --------------  -----         \n",
      " 0   id                     50000 non-null  object        \n",
      " 1   state                  50000 non-null  object        \n",
      " 2   stop_date              50000 non-null  object        \n",
      " 3   stop_time              50000 non-null  object        \n",
      " 4   location_raw           50000 non-null  object        \n",
      " 5   county_name            0 non-null      float64       \n",
      " 6   county_fips            0 non-null      float64       \n",
      " 7   fine_grained_location  0 non-null      float64       \n",
      " 8   police_department      50000 non-null  object        \n",
      " 9   driver_gender          48010 non-null  object        \n",
      " 10  driver_age_raw         48029 non-null  float64       \n",
      " 11  driver_age             47792 non-null  float64       \n",
      " 12  driver_race_raw        48012 non-null  object        \n",
      " 13  driver_race            48012 non-null  object        \n",
      " 14  violation_raw          48012 non-null  object        \n",
      " 15  violation              48012 non-null  object        \n",
      " 16  search_conducted       50000 non-null  bool          \n",
      " 17  search_type_raw        2012 non-null   object        \n",
      " 18  search_type            2012 non-null   object        \n",
      " 19  contraband_found       50000 non-null  bool          \n",
      " 20  stop_outcome           48012 non-null  object        \n",
      " 21  is_arrested            48012 non-null  object        \n",
      " 22  stop_duration          48012 non-null  object        \n",
      " 23  out_of_state           47797 non-null  object        \n",
      " 24  drugs_related_stop     50000 non-null  bool          \n",
      " 25  district               50000 non-null  object        \n",
      " 26  stop_datetime          50000 non-null  datetime64[ns]\n",
      "dtypes: bool(3), datetime64[ns](1), float64(5), object(18)\n",
      "memory usage: 9.3+ MB\n"
     ]
    }
   ],
   "source": [
    "df.info()"
   ]
  },
  {
   "cell_type": "code",
   "execution_count": null,
   "id": "f93dcaca",
   "metadata": {},
   "outputs": [],
   "source": []
  },
  {
   "cell_type": "code",
   "execution_count": null,
   "id": "341a2534",
   "metadata": {},
   "outputs": [],
   "source": []
  },
  {
   "cell_type": "code",
   "execution_count": null,
   "id": "91c4bcbb",
   "metadata": {},
   "outputs": [],
   "source": []
  }
 ],
 "metadata": {
  "kernelspec": {
   "display_name": "Python 3",
   "language": "python",
   "name": "python3"
  },
  "language_info": {
   "codemirror_mode": {
    "name": "ipython",
    "version": 3
   },
   "file_extension": ".py",
   "mimetype": "text/x-python",
   "name": "python",
   "nbconvert_exporter": "python",
   "pygments_lexer": "ipython3",
   "version": "3.8.8"
  }
 },
 "nbformat": 4,
 "nbformat_minor": 5
}
